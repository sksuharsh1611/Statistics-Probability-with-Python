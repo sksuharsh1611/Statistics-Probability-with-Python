{
 "cells": [
  {
   "cell_type": "markdown",
   "id": "ad1c76e6-97ae-4b06-8f77-f9e419816962",
   "metadata": {},
   "source": [
    "# F-test with Python"
   ]
  },
  {
   "cell_type": "code",
   "execution_count": 10,
   "id": "11d6efbc-5884-41cc-a260-909152b838d5",
   "metadata": {},
   "outputs": [],
   "source": [
    "import numpy as np\n",
    "import scipy.stats as stat"
   ]
  },
  {
   "cell_type": "code",
   "execution_count": 11,
   "id": "e4d419cd-3af8-46c9-aac5-fc362042bed9",
   "metadata": {},
   "outputs": [],
   "source": [
    "# Evidence to say that the two population variances are not equal:\n",
    "\n",
    "worker1 = [18,19,22,25,27,28,41,45,51,55]\n",
    "worker2 = [14,15,15,17,18,22,25,25,27,34]"
   ]
  },
  {
   "cell_type": "code",
   "execution_count": 12,
   "id": "6fdffc83-c21c-4563-8fe4-8b462626e3c7",
   "metadata": {},
   "outputs": [],
   "source": [
    "# Calculating f-test:\n",
    "f_test = np.var(worker1)/np.var(worker2)"
   ]
  },
  {
   "cell_type": "code",
   "execution_count": 13,
   "id": "fc3bdbc4-9bdd-4aae-ac19-a6612ec380ba",
   "metadata": {},
   "outputs": [
    {
     "data": {
      "text/plain": [
       "4.387122002085506"
      ]
     },
     "execution_count": 13,
     "metadata": {},
     "output_type": "execute_result"
    }
   ],
   "source": [
    "f_test"
   ]
  },
  {
   "cell_type": "code",
   "execution_count": 14,
   "id": "fd397154-ecf1-4f02-8ed1-d3c745be3647",
   "metadata": {},
   "outputs": [],
   "source": [
    "# Degree of freedom & significance value\n",
    "df1 = len(worker1)-1\n",
    "df2 = len(worker2)-1\n",
    "significance_value = 0.05"
   ]
  },
  {
   "cell_type": "code",
   "execution_count": 15,
   "id": "7ded9eba-ef63-4a5a-bebe-a64c41401a21",
   "metadata": {},
   "outputs": [],
   "source": [
    "# We don't want to look into f-table, for that we have ppf() method"
   ]
  },
  {
   "cell_type": "code",
   "execution_count": 16,
   "id": "ba619e2e-4c69-4fa0-b565-1ea9642f7d35",
   "metadata": {},
   "outputs": [],
   "source": [
    "critical_value = stat.f.ppf(q=1-significance_value,dfn=df1,dfd=df2)"
   ]
  },
  {
   "cell_type": "code",
   "execution_count": 17,
   "id": "509a5f99-a672-43f2-b3d1-6e0667308b9c",
   "metadata": {},
   "outputs": [
    {
     "data": {
      "text/plain": [
       "3.178893104458269"
      ]
     },
     "execution_count": 17,
     "metadata": {},
     "output_type": "execute_result"
    }
   ],
   "source": [
    "critical_value"
   ]
  },
  {
   "cell_type": "code",
   "execution_count": 18,
   "id": "24d29e0f-c37c-4a27-b826-8ec13231046a",
   "metadata": {},
   "outputs": [
    {
     "name": "stdout",
     "output_type": "stream",
     "text": [
      "Reject the null hypothesis\n"
     ]
    }
   ],
   "source": [
    "# According to descision rule:\n",
    "if f_test > critical_value:\n",
    "    print(\"Reject the null hypothesis\")\n",
    "else:\n",
    "    print(\"We fail to reject the Null Hypothesis\")"
   ]
  },
  {
   "cell_type": "code",
   "execution_count": null,
   "id": "7acd452f-a3c8-4d43-9a3a-a67b48670db3",
   "metadata": {},
   "outputs": [],
   "source": [
    "# Final Output:\n",
    "# >> The performance of different workers are different\n",
    "# By the data available worker1 is more effiecient that worker2"
   ]
  }
 ],
 "metadata": {
  "kernelspec": {
   "display_name": "Python 3 (ipykernel)",
   "language": "python",
   "name": "python3"
  },
  "language_info": {
   "codemirror_mode": {
    "name": "ipython",
    "version": 3
   },
   "file_extension": ".py",
   "mimetype": "text/x-python",
   "name": "python",
   "nbconvert_exporter": "python",
   "pygments_lexer": "ipython3",
   "version": "3.10.8"
  }
 },
 "nbformat": 4,
 "nbformat_minor": 5
}
