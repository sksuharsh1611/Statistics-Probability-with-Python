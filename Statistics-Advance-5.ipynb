{
 "cells": [
  {
   "cell_type": "code",
   "execution_count": null,
   "id": "517df774-7c85-4186-a160-e515293642f4",
   "metadata": {},
   "outputs": [],
   "source": [
    "Q1. Calculate the 95% confidence interval for a sample of data with a mean of 50 and a standard deviation\n",
    "of 5 using Python. Interpret the results.\n",
    "\n",
    "Q2. Conduct a chi-square goodness of fit test to determine if the distribution of colors of M&Ms in a bag\n",
    "matches the expected distribution of 20% blue, 20% orange, 20% green, 10% yellow, 10% red, and 20%\n",
    "brown. Use Python to perform the test with a significance level of 0.05.\n",
    "\n",
    "Q3. Use Python to calculate the chi-square statistic and p-value for a contingency table with the following\n",
    "data:\n",
    "            Group A   Group B\n",
    "Outcome1     20        15\n",
    "Outcome2     10        25\n",
    "Outcome3     15        20\n",
    "Interpret the results of the test.\n",
    "\n",
    "Q4. A study of the prevalence of smoking in a population of 500 individuals found that 60 individuals\n",
    "smoked. Use Python to calculate the 95% confidence interval for the true proportion of individuals in the\n",
    "population who smoke.\n",
    "\n",
    "Q5. Calculate the 90% confidence interval for a sample of data with a mean of 75 and a standard deviation\n",
    "of 12 using Python. Interpret the results.\n",
    "\n",
    "Q6. Use Python to plot the chi-square distribution with 10 degrees of freedom. Label the axes and shade the\n",
    "area corresponding to a chi-square statistic of 15.\n",
    "\n",
    "Q7. A random sample of 1000 people was asked if they preferred Coke or Pepsi. Of the sample, 520\n",
    "preferred Coke. Calculate a 99% confidence interval for the true proportion of people in the population who\n",
    "prefer Coke.\n",
    "\n",
    "Q8. A researcher hypothesizes that a coin is biased towards tails. They flip the coin 100 times and observe\n",
    "45 tails. Conduct a chi-square goodness of fit test to determine if the observed frequencies match the\n",
    "expected frequencies of a fair coin. Use a significance level of 0.05.\n",
    "\n",
    "Q9. A study was conducted to determine if there is an association between smoking status (smoker or\n",
    "non-smoker) and lung cancer diagnosis (yes or no). The results are shown in the contingency table below.\n",
    "Conduct a chi-square test for independence to determine if there is a significant association between\n",
    "smoking status and lung cancer diagnosis.\n",
    "\n",
    "            Lung Cancer: Yes        Lung Cancer: No\n",
    "Smoker               60                140\n",
    "Non-smoker           30                170\n",
    "\n",
    "Q10. A study was conducted to determine if the proportion of people who prefer milk chocolate, dark\n",
    "chocolate, or white chocolate is different in the U.S. versus the U.K. A random sample of 500 people from\n",
    "the U.S. and a random sample of 500 people from the U.K. were surveyed. The results are shown in the\n",
    "contingency table below. Conduct a chi-square test for independence to determine if there is a significant\n",
    "association between chocolate preference and country of origin.\n",
    "\n",
    "                Milk chocolate   Dark Chocolate  White Chocolate\n",
    "U.S.(n=500)          200             150            150\n",
    "U.K.(n=500)          225             175            100\n",
    "Use a significance level of 0.01.\n",
    "\n",
    "Q11. A random sample of 30 people was selected from a population with an unknown mean and standard\n",
    "deviation. The sample mean was found to be 72 and the sample standard deviation was found to be 10.\n",
    "Conduct a hypothesis test to determine if the population mean is significantly different from 70. Use a\n",
    "significance level of 0.05."
   ]
  },
  {
   "cell_type": "code",
   "execution_count": 1,
   "id": "f7fb3dcd-9680-47fd-9476-9edf246f3510",
   "metadata": {},
   "outputs": [
    {
     "name": "stdout",
     "output_type": "stream",
     "text": [
      "(49.02, 50.98)\n"
     ]
    }
   ],
   "source": [
    "# Sol 1:\n",
    "# To calculate the 95% confidence interval for the sample, we can use the formula:\n",
    "\n",
    "# CI = x̄ ± z*(σ/√n)\n",
    "import math\n",
    "\n",
    "mean = 50\n",
    "std_dev = 5\n",
    "n = 100\n",
    "z_score = 1.96\n",
    "\n",
    "standard_error = std_dev / math.sqrt(n)\n",
    "margin_of_error = z_score * standard_error\n",
    "confidence_interval = (mean - margin_of_error, mean + margin_of_error)\n",
    "\n",
    "print(confidence_interval)\n"
   ]
  },
  {
   "cell_type": "code",
   "execution_count": 2,
   "id": "c29c0d78-cd2b-40a4-bbea-6c4771ee51ec",
   "metadata": {},
   "outputs": [
    {
     "name": "stdout",
     "output_type": "stream",
     "text": [
      "Chi-square test statistic = 3.125\n",
      "P-value = 0.681\n",
      "Fail to reject null hypothesis - the distribution of colors in the bag matches our expectation.\n"
     ]
    }
   ],
   "source": [
    "# Sol 2:\n",
    "'''\n",
    "To conduct a chi-square goodness of fit test in Python, \n",
    "we first need to calculate the expected frequencies and observed frequencies for each color category.\n",
    "\n",
    "Let's assume we have a sample size of 200 M&Ms. Then, the expected frequencies for each color category are:\n",
    "\n",
    "Blue: 0.2 * 200 = 40\n",
    "Orange: 0.2 * 200 = 40\n",
    "Green: 0.2 * 200 = 40\n",
    "Yellow: 0.1 * 200 = 20\n",
    "Red: 0.1 * 200 = 20\n",
    "Brown: 0.2 * 200 = 40\n",
    "'''\n",
    "import scipy.stats as stats\n",
    "\n",
    "# Define observed and expected frequencies\n",
    "observed = [35, 45, 40, 25, 20, 35]\n",
    "expected = [40, 40, 40, 20, 20, 40]\n",
    "\n",
    "# Calculate the chi-square test statistic and p-value\n",
    "chi_square_stat, p_value = stats.chisquare(observed, expected)\n",
    "\n",
    "# Set the significance level\n",
    "alpha = 0.05\n",
    "\n",
    "# Print the results\n",
    "print(f\"Chi-square test statistic = {chi_square_stat:.3f}\")\n",
    "print(f\"P-value = {p_value:.3f}\")\n",
    "if p_value < alpha:\n",
    "    print(\"Reject null hypothesis - the distribution of colors in the bag is not what we expected.\")\n",
    "else:\n",
    "    print(\"Fail to reject null hypothesis - the distribution of colors in the bag matches our expectation.\")\n"
   ]
  },
  {
   "cell_type": "code",
   "execution_count": 4,
   "id": "7aab1d62-4bb0-4e3c-b759-d14e7aa80075",
   "metadata": {},
   "outputs": [
    {
     "name": "stdout",
     "output_type": "stream",
     "text": [
      "Chi-square test statistic = 5.833\n",
      "P-value = 0.054\n",
      "Fail to reject null hypothesis - there is no significant association between the groups and outcomes.\n"
     ]
    }
   ],
   "source": [
    "# Sol 3:\n",
    "import scipy.stats as stats\n",
    "\n",
    "# Define the contingency table\n",
    "observed = [[20, 15],\n",
    "            [10, 25],\n",
    "            [15, 20]]\n",
    "\n",
    "# Calculate the chi-square test statistic and p-value\n",
    "chi_square_stat, p_value, dof, expected = stats.chi2_contingency(observed)\n",
    "\n",
    "# Set the significance level\n",
    "alpha = 0.05\n",
    "\n",
    "# Print the results\n",
    "print(f\"Chi-square test statistic = {chi_square_stat:.3f}\")\n",
    "print(f\"P-value = {p_value:.3f}\")\n",
    "if p_value < alpha:\n",
    "    print(\"Reject null hypothesis - there is a significant association between the groups and outcomes.\")\n",
    "else:\n",
    "    print(\"Fail to reject null hypothesis - there is no significant association between the groups and outcomes.\")\n"
   ]
  },
  {
   "cell_type": "code",
   "execution_count": 6,
   "id": "0128869a-987b-460a-b88f-546d850ebd29",
   "metadata": {},
   "outputs": [
    {
     "name": "stdout",
     "output_type": "stream",
     "text": [
      "The 95% confidence interval for the true proportion of individuals in the population who smoke is [0.0915, 0.1485]\n",
      "Critical value: 1.9600\n"
     ]
    }
   ],
   "source": [
    "# Sol 4:\n",
    "import math\n",
    "import scipy.stats as stats\n",
    "\n",
    "n = 500\n",
    "p = 60/n\n",
    "alpha = 0.05\n",
    "z_critical = stats.norm.ppf(1-alpha/2)  # two-tailed test\n",
    "\n",
    "lower = p - z_critical*math.sqrt(p*(1-p)/n)\n",
    "upper = p + z_critical*math.sqrt(p*(1-p)/n)\n",
    "\n",
    "print(f\"The 95% confidence interval for the true proportion of individuals in the population who smoke is [{lower:.4f}, {upper:.4f}]\")\n",
    "print(f\"Critical value: {z_critical:.4f}\")\n"
   ]
  },
  {
   "cell_type": "code",
   "execution_count": 7,
   "id": "019a4070-0bef-4c0d-84e3-dd1a923e59a7",
   "metadata": {},
   "outputs": [
    {
     "name": "stdout",
     "output_type": "stream",
     "text": [
      "The 90% confidence interval is [71.2774, 78.7226]\n"
     ]
    }
   ],
   "source": [
    "# Sol 5:\n",
    "import math\n",
    "import scipy.stats as stats\n",
    "\n",
    "mean = 75\n",
    "std_dev = 12\n",
    "n = 30  # assuming a sample size of 30\n",
    "alpha = 0.1  # 90% confidence level\n",
    "\n",
    "t_critical = stats.t.ppf(1-alpha/2, n-1)  # two-tailed test\n",
    "\n",
    "lower = mean - t_critical * std_dev / math.sqrt(n)\n",
    "upper = mean + t_critical * std_dev / math.sqrt(n)\n",
    "\n",
    "print(f\"The 90% confidence interval is [{lower:.4f}, {upper:.4f}]\")"
   ]
  },
  {
   "cell_type": "code",
   "execution_count": 8,
   "id": "5bc63e98-3cfd-43ea-a2a4-422f8058d5c7",
   "metadata": {},
   "outputs": [
    {
     "data": {
      "image/png": "[encoded data removed]",
      "text/plain": [
       "<Figure size 640x480 with 1 Axes>"
      ]
     },
     "metadata": {},
     "output_type": "display_data"
    }
   ],
   "source": [
    "# Sol 6:\n",
    "import numpy as np\n",
    "import matplotlib.pyplot as plt\n",
    "import scipy.stats as stats\n",
    "\n",
    "df = 10  # degrees of freedom\n",
    "x = np.linspace(0, 30, 500)  # range of chi-square values\n",
    "y = stats.chi2.pdf(x, df)  # chi-square distribution for df=10\n",
    "\n",
    "plt.plot(x, y)\n",
    "plt.xlabel(\"Chi-square value\")\n",
    "plt.ylabel(\"Probability density function\")\n",
    "plt.title(f\"Chi-square distribution with {df} degrees of freedom\")\n",
    "plt.fill_between(x[x >= 15], y[x >= 15], 0, color='blue', alpha=0.3)\n",
    "plt.show()\n"
   ]
  },
  {
   "cell_type": "code",
   "execution_count": 12,
   "id": "f0bf8529-e872-4995-b147-5fbeb0294673",
   "metadata": {},
   "outputs": [
    {
     "name": "stdout",
     "output_type": "stream",
     "text": [
      "99% Confidence interval for the true proportion of people who prefer Coke: (0.4793051576779699, 0.5606948423220302)\n"
     ]
    }
   ],
   "source": [
    "# Sol 7:\n",
    "import numpy as np\n",
    "import statsmodels.stats.proportion as proportion\n",
    "\n",
    "n = 1000  # sample size\n",
    "x = 520  # number of people who prefer Coke\n",
    "alpha = 0.01  # significance level\n",
    "conf_int = proportion.proportion_confint(count=x, nobs=n, alpha=alpha, method='normal')\n",
    "\n",
    "print(f\"99% Confidence interval for the true proportion of people who prefer Coke: {conf_int}\")\n"
   ]
  },
  {
   "cell_type": "code",
   "execution_count": 13,
   "id": "c40df2ba-aea3-4b3a-83e0-0f37a2db32c3",
   "metadata": {},
   "outputs": [
    {
     "name": "stdout",
     "output_type": "stream",
     "text": [
      "The chi-square statistic is 1.0000, the p-value is 0.3173. We fail to reject the null hypothesis.\n"
     ]
    }
   ],
   "source": [
    "# Sol 8:\n",
    "import numpy as np\n",
    "from scipy.stats import chisquare\n",
    "\n",
    "# Define the expected frequencies assuming a fair coin\n",
    "expected_freq = [50, 50]\n",
    "\n",
    "# Define the observed frequencies\n",
    "observed_freq = [55, 45]\n",
    "\n",
    "# Calculate the chi-square statistic and p-value\n",
    "chi2, p = chisquare(observed_freq, f_exp=expected_freq)\n",
    "\n",
    "# Determine if the p-value is less than the significance level of 0.05\n",
    "if p < 0.05:\n",
    "    print(f\"The chi-square statistic is {chi2:.4f}, the p-value is {p:.4f}. We reject the null hypothesis.\")\n",
    "else:\n",
    "    print(f\"The chi-square statistic is {chi2:.4f}, the p-value is {p:.4f}. We fail to reject the null hypothesis.\")\n"
   ]
  },
  {
   "cell_type": "code",
   "execution_count": 14,
   "id": "5391b1ae-ee51-47a3-b2d4-e576cb1f4b3b",
   "metadata": {},
   "outputs": [
    {
     "name": "stdout",
     "output_type": "stream",
     "text": [
      "The chi-square statistic is 12.0573, the p-value is 0.0005. We reject the null hypothesis.\n"
     ]
    }
   ],
   "source": [
    "# Sol 9:\n",
    "import numpy as np\n",
    "from scipy.stats import chi2_contingency\n",
    "\n",
    "# Define the contingency table\n",
    "observed_freq = np.array([[60, 140], [30, 170]])\n",
    "\n",
    "# Calculate the chi-square statistic, p-value, and degrees of freedom\n",
    "chi2, p, dof, expected_freq = chi2_contingency(observed_freq)\n",
    "\n",
    "# Determine if the p-value is less than the significance level of 0.05\n",
    "if p < 0.05:\n",
    "    print(f\"The chi-square statistic is {chi2:.4f}, the p-value is {p:.4f}. We reject the null hypothesis.\")\n",
    "else:\n",
    "    print(f\"The chi-square statistic is {chi2:.4f}, the p-value is {p:.4f}. We fail to reject the null hypothesis.\")\n"
   ]
  },
  {
   "cell_type": "code",
   "execution_count": 15,
   "id": "b8ebd8e6-32f3-4bbd-b9f8-2dad000ac1c5",
   "metadata": {},
   "outputs": [
    {
     "name": "stdout",
     "output_type": "stream",
     "text": [
      "The chi-square statistic is 13.3937, the p-value is 0.0012. We reject the null hypothesis.\n"
     ]
    }
   ],
   "source": [
    "# Sol 10:\n",
    "import numpy as np\n",
    "from scipy.stats import chi2_contingency\n",
    "\n",
    "# Define the contingency table\n",
    "observed_freq = np.array([[200, 150, 150], [225, 175, 100]])\n",
    "\n",
    "# Calculate the chi-square statistic, p-value, and degrees of freedom\n",
    "chi2, p, dof, expected_freq = chi2_contingency(observed_freq)\n",
    "\n",
    "# Determine if the p-value is less than the significance level of 0.01\n",
    "if p < 0.01:\n",
    "    print(f\"The chi-square statistic is {chi2:.4f}, the p-value is {p:.4f}. We reject the null hypothesis.\")\n",
    "else:\n",
    "    print(f\"The chi-square statistic is {chi2:.4f}, the p-value is {p:.4f}. We fail to reject the null hypothesis.\")\n"
   ]
  },
  {
   "cell_type": "code",
   "execution_count": 16,
   "id": "40a13ba7-135c-4237-94c1-a37b5556ec40",
   "metadata": {},
   "outputs": [
    {
     "name": "stdout",
     "output_type": "stream",
     "text": [
      "t-value:  1.0954451150103321\n",
      "p-value:  0.2823362372860698\n",
      "Fail to reject the null hypothesis\n"
     ]
    }
   ],
   "source": [
    "# Sol 11:\n",
    "import scipy.stats as stats\n",
    "\n",
    "sample_size = 30\n",
    "sample_mean = 72\n",
    "sample_standard_deviation = 10\n",
    "hypothesized_mean = 70\n",
    "alpha = 0.05\n",
    "\n",
    "t = (sample_mean - hypothesized_mean) / (sample_standard_deviation / (sample_size ** 0.5))\n",
    "p_value = 2 * (1 - stats.t.cdf(abs(t), sample_size - 1))\n",
    "\n",
    "print(\"t-value: \", t)\n",
    "print(\"p-value: \", p_value)\n",
    "\n",
    "if p_value < alpha:\n",
    "    print(\"Reject the null hypothesis\")\n",
    "else:\n",
    "    print(\"Fail to reject the null hypothesis\")\n"
   ]
  },
  {
   "cell_type": "code",
   "execution_count": null,
   "id": "f66cb546-7c9d-40a5-a7a1-1de3d97b1dc8",
   "metadata": {},
   "outputs": [],
   "source": []
  }
 ],
 "metadata": {
  "kernelspec": {
   "display_name": "Python 3 (ipykernel)",
   "language": "python",
   "name": "python3"
  },
  "language_info": {
   "codemirror_mode": {
    "name": "ipython",
    "version": 3
   },
   "file_extension": ".py",
   "mimetype": "text/x-python",
   "name": "python",
   "nbconvert_exporter": "python",
   "pygments_lexer": "ipython3",
   "version": "3.10.8"
  }
 },
 "nbformat": 4,
 "nbformat_minor": 5
}
