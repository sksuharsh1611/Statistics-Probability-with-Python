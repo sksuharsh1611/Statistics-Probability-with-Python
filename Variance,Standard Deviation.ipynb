{
 "cells": [
  {
   "cell_type": "markdown",
   "id": "a843a981-3d12-469f-8606-852fc5000a02",
   "metadata": {},
   "source": [
    "# Measure of Dispersion:\n",
    "\n",
    "Variance , Standard Deviation"
   ]
  },
  {
   "cell_type": "markdown",
   "id": "aca3959d-cae5-48ca-b2e4-20c3b2033ff8",
   "metadata": {},
   "source": [
    "# Variance --> Using numpy"
   ]
  },
  {
   "cell_type": "code",
   "execution_count": 2,
   "id": "827b46b8-8386-4971-97ff-b1230adb4d7f",
   "metadata": {},
   "outputs": [],
   "source": [
    "import numpy as np"
   ]
  },
  {
   "cell_type": "code",
   "execution_count": 3,
   "id": "927de3dd-f25d-4c5a-9dd9-8fae0550fb85",
   "metadata": {},
   "outputs": [],
   "source": [
    "ages_list = [23,45,65,25,26,40,45,34]"
   ]
  },
  {
   "cell_type": "code",
   "execution_count": 4,
   "id": "e045c9c1-bd00-4548-81d1-99f41bfaa06d",
   "metadata": {},
   "outputs": [
    {
     "data": {
      "text/plain": [
       "37.875"
      ]
     },
     "execution_count": 4,
     "metadata": {},
     "output_type": "execute_result"
    }
   ],
   "source": [
    "np.mean(ages_list)"
   ]
  },
  {
   "cell_type": "code",
   "execution_count": 5,
   "id": "25358cf1-a47b-414d-8c9e-bfd96e82a9dd",
   "metadata": {},
   "outputs": [
    {
     "data": {
      "text/plain": [
       "173.109375"
      ]
     },
     "execution_count": 5,
     "metadata": {},
     "output_type": "execute_result"
    }
   ],
   "source": [
    "np.var(ages_list)"
   ]
  },
  {
   "cell_type": "markdown",
   "id": "11700dc8-aa60-4af5-80cf-6ea0511ee970",
   "metadata": {},
   "source": [
    "# Standard Deviation --> Using numpy"
   ]
  },
  {
   "cell_type": "code",
   "execution_count": 6,
   "id": "80b56f4a-a456-45a5-8818-e9c02ea26df1",
   "metadata": {},
   "outputs": [
    {
     "data": {
      "text/plain": [
       "13.157103594636625"
      ]
     },
     "execution_count": 6,
     "metadata": {},
     "output_type": "execute_result"
    }
   ],
   "source": [
    "np.std(ages_list)"
   ]
  },
  {
   "cell_type": "markdown",
   "id": "a57f22f6-e553-45e3-9960-a3a3aed97447",
   "metadata": {},
   "source": [
    "# To visualize using Histogram Plot"
   ]
  },
  {
   "cell_type": "code",
   "execution_count": 7,
   "id": "8f06ce53-792e-4249-99e4-6fadb0815f80",
   "metadata": {},
   "outputs": [
    {
     "data": {
      "text/plain": [
       "<AxesSubplot: ylabel='Count'>"
      ]
     },
     "execution_count": 7,
     "metadata": {},
     "output_type": "execute_result"
    },
    {
     "data": {
      "image/png": "[encoded data removed]",
      "text/plain": [
       "<Figure size 640x480 with 1 Axes>"
      ]
     },
     "metadata": {},
     "output_type": "display_data"
    }
   ],
   "source": [
    "import seaborn as sns\n",
    "sns.histplot(ages_list, kde=True)"
   ]
  },
  {
   "cell_type": "markdown",
   "id": "a1c93d29-c0e4-4221-8aec-88780d1bfd4f",
   "metadata": {},
   "source": [
    "# Calculate Var and Std Using Dataframe:"
   ]
  },
  {
   "cell_type": "code",
   "execution_count": 8,
   "id": "b0116a42-2713-4621-9519-fb7a7ae47d92",
   "metadata": {},
   "outputs": [],
   "source": [
    "import pandas as pd"
   ]
  },
  {
   "cell_type": "code",
   "execution_count": 9,
   "id": "2faba8ee-5892-4af8-9563-d5cdb4c4072c",
   "metadata": {},
   "outputs": [
    {
     "data": {
      "text/plain": [
       "[[10, 12, 13], [34, 23, 45], [32, 34, 21]]"
      ]
     },
     "execution_count": 9,
     "metadata": {},
     "output_type": "execute_result"
    }
   ],
   "source": [
    "data = [[10,12,13],[34,23,45],[32,34,21]]\n",
    "data"
   ]
  },
  {
   "cell_type": "code",
   "execution_count": 12,
   "id": "322e18f1-64d7-4fba-ad49-2c6beb6d5a95",
   "metadata": {},
   "outputs": [],
   "source": [
    "df = pd.DataFrame(data,columns=[\"A\",\"B\",\"C\"])"
   ]
  },
  {
   "cell_type": "code",
   "execution_count": 15,
   "id": "7b01e0e3-d4c3-4b29-a2b5-af75a12ad484",
   "metadata": {},
   "outputs": [
    {
     "data": {
      "text/html": [
       "<div>\n",
       "<style scoped>\n",
       "    .dataframe tbody tr th:only-of-type {\n",
       "        vertical-align: middle;\n",
       "    }\n",
       "\n",
       "    .dataframe tbody tr th {\n",
       "        vertical-align: top;\n",
       "    }\n",
       "\n",
       "    .dataframe thead th {\n",
       "        text-align: right;\n",
       "    }\n",
       "</style>\n",
       "<table border=\"1\" class=\"dataframe\">\n",
       "  <thead>\n",
       "    <tr style=\"text-align: right;\">\n",
       "      <th></th>\n",
       "      <th>A</th>\n",
       "      <th>B</th>\n",
       "      <th>C</th>\n",
       "    </tr>\n",
       "  </thead>\n",
       "  <tbody>\n",
       "    <tr>\n",
       "      <th>0</th>\n",
       "      <td>10</td>\n",
       "      <td>12</td>\n",
       "      <td>13</td>\n",
       "    </tr>\n",
       "    <tr>\n",
       "      <th>1</th>\n",
       "      <td>34</td>\n",
       "      <td>23</td>\n",
       "      <td>45</td>\n",
       "    </tr>\n",
       "    <tr>\n",
       "      <th>2</th>\n",
       "      <td>32</td>\n",
       "      <td>34</td>\n",
       "      <td>21</td>\n",
       "    </tr>\n",
       "  </tbody>\n",
       "</table>\n",
       "</div>"
      ],
      "text/plain": [
       "    A   B   C\n",
       "0  10  12  13\n",
       "1  34  23  45\n",
       "2  32  34  21"
      ]
     },
     "execution_count": 15,
     "metadata": {},
     "output_type": "execute_result"
    }
   ],
   "source": [
    "df"
   ]
  },
  {
   "cell_type": "code",
   "execution_count": 13,
   "id": "2bba26cf-6d58-44c7-8597-5412aebec8c2",
   "metadata": {},
   "outputs": [
    {
     "data": {
      "text/plain": [
       "A    177.333333\n",
       "B    121.000000\n",
       "C    277.333333\n",
       "dtype: float64"
      ]
     },
     "execution_count": 13,
     "metadata": {},
     "output_type": "execute_result"
    }
   ],
   "source": [
    "# Column wise variance:\n",
    "df.var()"
   ]
  },
  {
   "cell_type": "code",
   "execution_count": 14,
   "id": "f2cd5afd-409e-4e53-a632-2b6d78ed1419",
   "metadata": {},
   "outputs": [
    {
     "data": {
      "text/plain": [
       "A    13.316656\n",
       "B    11.000000\n",
       "C    16.653328\n",
       "dtype: float64"
      ]
     },
     "execution_count": 14,
     "metadata": {},
     "output_type": "execute_result"
    }
   ],
   "source": [
    "# Column wise std:\n",
    "df.std()"
   ]
  },
  {
   "cell_type": "code",
   "execution_count": 16,
   "id": "b13b5db9-15d9-4748-abee-249ed3a09c29",
   "metadata": {},
   "outputs": [
    {
     "data": {
      "text/plain": [
       "0      2.333333\n",
       "1    121.000000\n",
       "2     49.000000\n",
       "dtype: float64"
      ]
     },
     "execution_count": 16,
     "metadata": {},
     "output_type": "execute_result"
    }
   ],
   "source": [
    "# Row wise variance:\n",
    "df.var(axis=1)"
   ]
  },
  {
   "cell_type": "code",
   "execution_count": 17,
   "id": "5c52bc46-462e-4eb2-9049-4f27f41c8f25",
   "metadata": {},
   "outputs": [
    {
     "data": {
      "text/plain": [
       "0     1.527525\n",
       "1    11.000000\n",
       "2     7.000000\n",
       "dtype: float64"
      ]
     },
     "execution_count": 17,
     "metadata": {},
     "output_type": "execute_result"
    }
   ],
   "source": [
    "# Row wise std:\n",
    "df.std(axis=1)"
   ]
  },
  {
   "cell_type": "code",
   "execution_count": null,
   "id": "de8c3122-fd5b-4c4b-9628-1ac546e838c6",
   "metadata": {},
   "outputs": [],
   "source": []
  }
 ],
 "metadata": {
  "kernelspec": {
   "display_name": "Python 3 (ipykernel)",
   "language": "python",
   "name": "python3"
  },
  "language_info": {
   "codemirror_mode": {
    "name": "ipython",
    "version": 3
   },
   "file_extension": ".py",
   "mimetype": "text/x-python",
   "name": "python",
   "nbconvert_exporter": "python",
   "pygments_lexer": "ipython3",
   "version": "3.10.8"
  }
 },
 "nbformat": 4,
 "nbformat_minor": 5
}
