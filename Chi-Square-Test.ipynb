{
 "cells": [
  {
   "cell_type": "markdown",
   "id": "c9c02dda-802b-451f-b89d-04ecf58a48de",
   "metadata": {},
   "source": [
    "# Chi Square Test With Python"
   ]
  },
  {
   "cell_type": "code",
   "execution_count": 7,
   "id": "e4a44f2c-2d0f-481d-b888-f8736e7929f9",
   "metadata": {},
   "outputs": [],
   "source": [
    "import scipy.stats as stat\n",
    "import numpy as np"
   ]
  },
  {
   "cell_type": "code",
   "execution_count": 8,
   "id": "c4c54822-9f77-4b19-ad28-c932efc90b6d",
   "metadata": {},
   "outputs": [],
   "source": [
    "# No of hours student study on a weekly basis daily\n",
    "# Monday, tuesday, wednesday, thursday, friday, saturday, sunday\n",
    "expected_data = [8,6,7,9,6,9,7]\n",
    "observed_data = [8,6,7,8,9,6,8]\n"
   ]
  },
  {
   "cell_type": "code",
   "execution_count": 9,
   "id": "2798c887-829e-42a4-acad-7c2de0f16546",
   "metadata": {},
   "outputs": [
    {
     "data": {
      "text/plain": [
       "True"
      ]
     },
     "execution_count": 9,
     "metadata": {},
     "output_type": "execute_result"
    }
   ],
   "source": [
    "# Must be true for chi-square calculation\n",
    "sum(expected_data) == sum(observed_data)"
   ]
  },
  {
   "cell_type": "code",
   "execution_count": 10,
   "id": "11435116-40be-4f07-b5f2-0275df24a30a",
   "metadata": {},
   "outputs": [],
   "source": [
    "# Chi- Square Goodness of fit Test:\n",
    "chisquare_test_statistic,p_value = stat.chisquare(observed_data,expected_data)"
   ]
  },
  {
   "cell_type": "code",
   "execution_count": 11,
   "id": "c85d1b5a-4815-4f1a-b8a0-4e3287db2003",
   "metadata": {},
   "outputs": [
    {
     "data": {
      "text/plain": [
       "(2.753968253968254, 0.8390320258488081)"
      ]
     },
     "execution_count": 11,
     "metadata": {},
     "output_type": "execute_result"
    }
   ],
   "source": [
    "chisquare_test_statistic,p_value"
   ]
  },
  {
   "cell_type": "code",
   "execution_count": 15,
   "id": "5804d0cd-9b47-4690-9025-e42ca4c38eba",
   "metadata": {},
   "outputs": [],
   "source": [
    "# Significance value: Given in problem statement\n",
    "significance_value = 0.05"
   ]
  },
  {
   "cell_type": "code",
   "execution_count": 16,
   "id": "db097265-99b9-4a21-b6b8-8697feeeabe4",
   "metadata": {},
   "outputs": [
    {
     "name": "stdout",
     "output_type": "stream",
     "text": [
      "6\n"
     ]
    }
   ],
   "source": [
    "# Calculate degree of freedom:  (k-1)\n",
    "dof = len(expected_data)-1\n",
    "print(dof)"
   ]
  },
  {
   "cell_type": "code",
   "execution_count": 18,
   "id": "96026deb-e228-4719-ad2c-6b94a76b5ac6",
   "metadata": {},
   "outputs": [],
   "source": [
    "# FInding Critical value:\n",
    "critical_value = stat.chi2.ppf(1-significance_value,dof)"
   ]
  },
  {
   "cell_type": "code",
   "execution_count": 19,
   "id": "ccff10fc-7f35-466b-b01a-0d793fa33f6b",
   "metadata": {},
   "outputs": [
    {
     "data": {
      "text/plain": [
       "12.591587243743977"
      ]
     },
     "execution_count": 19,
     "metadata": {},
     "output_type": "execute_result"
    }
   ],
   "source": [
    "critical_value"
   ]
  },
  {
   "cell_type": "code",
   "execution_count": 20,
   "id": "b3e0590d-3143-4b96-b954-966e4599c80c",
   "metadata": {},
   "outputs": [
    {
     "name": "stdout",
     "output_type": "stream",
     "text": [
      "Accept the null hypothesis\n"
     ]
    }
   ],
   "source": [
    "# Now decision rule check:\n",
    "\n",
    "if chisquare_test_statistic > critical_value:\n",
    "    print(\"Reject the null hypothesis\")\n",
    "else:\n",
    "    print(\"Accept the null hypothesis\")"
   ]
  },
  {
   "cell_type": "code",
   "execution_count": null,
   "id": "1504c9d1-5aa6-462f-bd91-b54263a42c9a",
   "metadata": {},
   "outputs": [],
   "source": []
  }
 ],
 "metadata": {
  "kernelspec": {
   "display_name": "Python 3 (ipykernel)",
   "language": "python",
   "name": "python3"
  },
  "language_info": {
   "codemirror_mode": {
    "name": "ipython",
    "version": 3
   },
   "file_extension": ".py",
   "mimetype": "text/x-python",
   "name": "python",
   "nbconvert_exporter": "python",
   "pygments_lexer": "ipython3",
   "version": "3.10.8"
  }
 },
 "nbformat": 4,
 "nbformat_minor": 5
}
