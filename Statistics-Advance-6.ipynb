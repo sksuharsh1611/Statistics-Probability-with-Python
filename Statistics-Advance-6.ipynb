{
 "cells": [
  {
   "cell_type": "code",
   "execution_count": null,
   "id": "bcb6e0c9-9585-4b70-b921-f280d8f4874d",
   "metadata": {},
   "outputs": [],
   "source": [
    "Q1. Explain the assumptions required to use ANOVA and provide examples of violations that could impact\n",
    "the validity of the results.\n",
    "\n",
    "Q2. What are the three types of ANOVA, and in what situations would each be used?\n",
    "\n",
    "Q3. What is the partitioning of variance in ANOVA, and why is it important to understand this concept?\n",
    "\n",
    "Q4. How would you calculate the total sum of squares (SST), explained sum of squares (SSE), and residual\n",
    "sum of squares (SSR) in a one-way ANOVA using Python?\n",
    "\n",
    "Q5. In a two-way ANOVA, how would you calculate the main effects and interaction effects using Python?\n",
    "\n",
    "Q6. Suppose you conducted a one-way ANOVA and obtained an F-statistic of 5.23 and a p-value of 0.02.\n",
    "What can you conclude about the differences between the groups, and how would you interpret these\n",
    "results?\n",
    "\n",
    "Q7. In a repeated measures ANOVA, how would you handle missing data, and what are the potential\n",
    "consequences of using different methods to handle missing data?\n",
    "\n",
    "Q8. What are some common post-hoc tests used after ANOVA, and when would you use each one? Provide\n",
    "an example of a situation where a post-hoc test might be necessary.\n",
    "\n",
    "Q9. A researcher wants to compare the mean weight loss of three diets: A, B, and C. They collect data from\n",
    "50 participants who were randomly assigned to one of the diets. Conduct a one-way ANOVA using Python\n",
    "to determine if there are any significant differences between the mean weight loss of the three diets.\n",
    "Report the F-statistic and p-value, and interpret the results.\n",
    "\n",
    "Q10. A company wants to know if there are any significant differences in the average time it takes to\n",
    "complete a task using three different software programs: Program A, Program B, and Program C. They\n",
    "randomly assign 30 employees to one of the programs and record the time it takes each employee to\n",
    "complete the task. Conduct a two-way ANOVA using Python to determine if there are any main effects or\n",
    "interaction effects between the software programs and employee experience level (novice vs.\n",
    "experienced). Report the F-statistics and p-values, and interpret the results.\n",
    "\n",
    "Q11. An educational researcher is interested in whether a new teaching method improves student test\n",
    "scores. They randomly assign 100 students to either the control group (traditional teaching method) or the\n",
    "experimental group (new teaching method) and administer a test at the end of the semester. Conduct a\n",
    "two-sample t-test using Python to determine if there are any significant differences in test scores\n",
    "between the two groups. If the results are significant, follow up with a post-hoc test to determine which\n",
    "group(s) differ significantly from each other.\n",
    "\n",
    "Q12. A researcher wants to know if there are any significant differences in the average daily sales of three\n",
    "retail stores: Store A, Store B, and Store C. They randomly select 30 days and record the sales for each store\n",
    "on those days. Conduct a repeated measures ANOVA using Python to determine if there are any\n",
    "significant differences in sales between the three stores. If the results are significant, follow up with a post-\n",
    "hoc test to determine which store(s) differ significantly from each other."
   ]
  },
  {
   "cell_type": "code",
   "execution_count": null,
   "id": "9163ba30-9031-48fa-a04a-2095635b535d",
   "metadata": {},
   "outputs": [],
   "source": [
    "# Ans 1:\n",
    "Assumptions of ANOVA:\n",
    "\n",
    "1. Independence of observations: The observations within each group should be independent of each other. \n",
    "                                 Violations of this assumption can lead to overestimating the significance of differences between groups. \n",
    "\n",
    "    Examples of violations include observations from related individuals or repeated measures from the same individual.\n",
    "\n",
    "2. Normality: The data within each group should be normally distributed. \n",
    "              Violations of this assumption can lead to incorrect p-values and confidence intervals. \n",
    "    \n",
    "    Examples of violations include skewed distributions or extreme outliers.\n",
    "\n",
    "3. Homogeneity of variances: The variances of the data should be equal across all groups. \n",
    "                             Violations of this assumption can lead to an incorrect assessment of the significance of differences between groups. \n",
    "    \n",
    "    Examples of violations include unequal variances due to differences in sample sizes or outliers in one or more groups.\n",
    "\n",
    "4. Absence of outliers: Outliers can affect the mean and variance estimates and, therefore, are considered an assumption of ANOVA. \n",
    "                        It is important to identify and address outliers before conducting ANOVA analysis, using visual inspection or statistical tests such as the Grubbs' test or Dixon's Q test.\n",
    "\n",
    "\n",
    "Violations of these assumptions can impact the validity of ANOVA results. \n",
    "\n",
    "It is important to check the assumptions of ANOVA before analyzing the data to ensure that the results are valid and meaningful. \n",
    "If the assumptions are not met, there are alternative tests or modifications that can be used to analyze the data."
   ]
  },
  {
   "cell_type": "code",
   "execution_count": null,
   "id": "f1d871f9-91ee-4bff-81ee-820f6737839c",
   "metadata": {},
   "outputs": [],
   "source": [
    "# Ans 2:\n",
    "There are three types of ANOVA:\n",
    "\n",
    "1. One-way ANOVA: This is used when there is only one factor or independent variable being studied. \n",
    "                  It is used to test for differences in means among two or more groups on a single dependent variable. \n",
    "    For example, it could be used to test whether there is a difference in average exam scores between students who received different types of instruction.\n",
    "\n",
    "2. Repeated measures ANOVA: This is used when each subject is measured multiple times under different conditions. \n",
    "                            It is used to test whether there are significant differences between the conditions or across time on a dependent variable. \n",
    "    For example, it could be used to test whether there is a significant difference in blood pressure before and after exercise.\n",
    "\n",
    "3. Factorial ANOVA: This is used when there are two or more independent variables or factors being studied. \n",
    "                    It is used to test for the main effects of each factor and the interaction effect between them on a dependent variable. \n",
    "    For example, it could be used to test whether there is a difference in exam scores between students who received different types of instruction and who had different levels of motivation."
   ]
  },
  {
   "cell_type": "code",
   "execution_count": null,
   "id": "f9e8c7c4-754c-46c9-833c-c8423a32e376",
   "metadata": {},
   "outputs": [],
   "source": [
    "# Ans 3:\n",
    "Partitioning of variance is the process of dividing the total variation in a dataset into different sources of variation.\n",
    "In ANOVA, the variation in the dependent variable is partitioned into different components based on the sources of variation in the independent variables.\n",
    "\n",
    "'''\n",
    "Here are some key points to understand about the partitioning of variance in ANOVA:\n",
    "\n",
    "1. Total variation: The total variation in the dependent variable is the sum of the variation between groups (due to the independent variable) and the variation within groups (due to random error or individual differences).\n",
    "\n",
    "2. Between-group variation: This is the variation in the dependent variable that is due to differences between the groups or levels of the independent variable. \n",
    "                            It is calculated by comparing the means of the different groups and taking into account the sample size of each group.\n",
    "\n",
    "3. Within-group variation: This is the variation in the dependent variable that is due to random error or individual differences within each group. \n",
    "                           It is calculated by looking at the variation of the scores within each group and taking into account the sample size of each group.\n",
    "\n",
    "4. Degrees of freedom: The degrees of freedom associated with each source of variation are used to calculate the F statistic and determine the statistical significance of the results.\n",
    "'''"
   ]
  },
  {
   "cell_type": "code",
   "execution_count": 3,
   "id": "e3a2b254-0275-4094-9b5c-fba7b12a10bb",
   "metadata": {},
   "outputs": [
    {
     "name": "stdout",
     "output_type": "stream",
     "text": [
      "SST = 160.0\n",
      "SSE = 24.0\n",
      "SSR = 136.0\n"
     ]
    }
   ],
   "source": [
    "# Ans 4:\n",
    "# In Python, we can calculate the total sum of squares (SST), explained sum of squares (SSE), and residual sum of squares (SSR) in a one-way ANOVA using the scipy.stats module.\n",
    "\n",
    "import scipy.stats as stats\n",
    "\n",
    "# Define the data for the one-way ANOVA\n",
    "group1 = [10, 12, 14, 16, 18]\n",
    "group2 = [8, 10, 12, 14, 16]\n",
    "group3 = [6, 8, 10, 12, 14]\n",
    "\n",
    "# Concatenate the data from all groups into a single array\n",
    "data = group1 + group2 + group3\n",
    "\n",
    "# Calculate the total sum of squares (SST)\n",
    "mean = sum(data) / len(data)\n",
    "squared_errors = [(x - mean)**2 for x in data]\n",
    "SST = sum(squared_errors)\n",
    "\n",
    "# Calculate the explained sum of squares (SSE)\n",
    "n_groups = 3\n",
    "group_means = [sum(group)/len(group) for group in [group1, group2, group3]]\n",
    "global_mean = sum(data) / len(data)\n",
    "SSE = n_groups * sum([(mean - group_mean)**2 for group_mean in group_means])\n",
    "\n",
    "# Calculate the residual sum of squares (SSR)\n",
    "SSR = SST - SSE\n",
    "\n",
    "# Print the results\n",
    "print(\"SST =\", SST)\n",
    "print(\"SSE =\", SSE)\n",
    "print(\"SSR =\", SSR)\n"
   ]
  },
  {
   "cell_type": "code",
   "execution_count": 12,
   "id": "21e76409-bdd0-4553-a833-425889ee87fd",
   "metadata": {},
   "outputs": [],
   "source": [
    "# Ans 5:\n",
    ">> In a two-way ANOVA, we can calculate the main effects and interaction effects using Python by using the 'statsmodels' module.\n",
    "\n",
    "import statsmodels.api as sm\n",
    "from statsmodels.formula.api import ols"
   ]
  },
  {
   "cell_type": "code",
   "execution_count": 5,
   "id": "0fa8b555-285a-4804-8dad-780aa523516e",
   "metadata": {},
   "outputs": [],
   "source": [
    "# Ans 6:\n",
    "With an F-statistic of 5.23 and a p-value of 0.02, we can conclude that there is a significant difference between at least two of the groups. \n",
    "The p-value of 0.02 suggests that there is only a 2% chance of observing such a large F-statistic by random chance. \n",
    "\n",
    "Therefore, we reject the null hypothesis of equal group means and accept the alternative hypothesis that at least one group mean is significantly different from the others."
   ]
  },
  {
   "cell_type": "code",
   "execution_count": 6,
   "id": "95111803-cf34-4281-8ba2-c704102c32ca",
   "metadata": {},
   "outputs": [],
   "source": [
    "# Ans 7:\n",
    "'''\n",
    "Some ways to handle missing data in a repeated measures ANOVA:\n",
    "\n",
    "1. Complete case analysis: Only use participants who have data for all time points. \n",
    "                           This approach is easy to implement but may lead to biased results if the missing data is not random.\n",
    "\n",
    "2. Imputation: Estimate missing data using various imputation methods such as mean imputation or regression imputation. \n",
    "               This approach may improve the statistical power of the analysis but can lead to biased results if the imputation model is incorrect.\n",
    "\n",
    "3. Maximum likelihood estimation: Use statistical software that allows for maximum likelihood estimation, which can include participants with incomplete data. \n",
    "                                  This approach can provide unbiased results if the data are missing at random.\n",
    "\n",
    "\n",
    ">> The potential consequences of using different methods to handle missing data include:\n",
    "\n",
    "1. Bias: Using complete case analysis or incorrect imputation methods can lead to biased results.\n",
    "2. Reduced power: Complete case analysis can lead to a reduction in statistical power, as fewer participants are included in the analysis.\n",
    "3. Decreased precision: Using imputation methods that do not accurately capture the missing data can lead to a decrease in the precision of the estimates.\n",
    "4. Increased complexity: Using more advanced methods such as maximum likelihood estimation can be computationally intensive and require more expertise in statistical analysis.\n",
    "'''"
   ]
  },
  {
   "cell_type": "code",
   "execution_count": 7,
   "id": "f2b3bc6e-7d2e-469d-a0f2-0124a693c22d",
   "metadata": {},
   "outputs": [],
   "source": [
    "# Ans 8:\n",
    "'''\n",
    "Post-hoc tests are used after an ANOVA to compare specific pairs of groups and identify which groups differ significantly from each other. \n",
    "\n",
    "Here are some common post-hoc tests and when to use them:\n",
    "\n",
    "1. Tukey's HSD: This test is used when all groups have equal sample sizes and is the most conservative test. \n",
    "                It controls for family-wise error rate (FWER), which is the probability of making at least one Type I error across all comparisons. \n",
    "                This test is appropriate when there are many groups to compare.\n",
    "\n",
    "2. Bonferroni: This test is also used to control for FWER, but it is more conservative than Tukey's HSD. \n",
    "               This test is appropriate when there are a small number of groups to compare.\n",
    "\n",
    "3. Scheffe: This test is more liberal than Tukey's HSD and Bonferroni, and it is appropriate when there are a small number of groups to compare and the sample sizes are unequal.\n",
    "\n",
    "4. Dunnett's: This test is used to compare each group to a control group. \n",
    "              This test is appropriate when there is a control group that serves as a reference point.\n",
    "\n",
    "\n",
    "An example of a situation where a post-hoc test might be necessary is:\n",
    "> When conducting a study on the effectiveness of four different weight-loss programs. \n",
    "  After conducting an ANOVA, we find that there is a significant difference between the means of the four programs. \n",
    "  We would then conduct a post-hoc test to identify which programs differ significantly from each other to determine which program is most effective.\n",
    "'''"
   ]
  },
  {
   "cell_type": "code",
   "execution_count": 13,
   "id": "0c6680a7-61d0-4935-8896-d4d50a89fce5",
   "metadata": {},
   "outputs": [
    {
     "name": "stdout",
     "output_type": "stream",
     "text": [
      "F-statistic: 0.45930881565134246\n",
      "p-value: 0.634525470518545\n"
     ]
    }
   ],
   "source": [
    "# Ans 9:\n",
    "import pandas as pd\n",
    "import scipy.stats as stats\n",
    "\n",
    "# create a dataframe with the weight loss data\n",
    "data = {'diet': ['A']*16 + ['B']*17 + ['C']*17,\n",
    "        'weight_loss': [2.3, 1.7, 1.4, 2.8, 3.2, 3.4, 1.1, 1.9, 1.5, 2.7, 2.9, 2.2, 2.1, 1.8, 1.6, 1.9,\n",
    "                        2.8, 2.2, 2.4, 2.1, 1.7, 1.4, 2.3, 2.5, 3.1, 1.8, 1.3, 2.0, 1.9, 1.6, 1.2, 1.5, 2.2,\n",
    "                        2.5, 2.9, 1.8, 1.6, 1.7, 2.0, 1.4, 1.1, 2.3, 2.4, 2.7, 1.5, 1.9, 1.4, 2.2, 2.0, 2.3]}\n",
    "df = pd.DataFrame(data)\n",
    "\n",
    "# conduct one-way ANOVA\n",
    "f_stat, p_value = stats.f_oneway(df[df['diet'] == 'A']['weight_loss'],\n",
    "                                  df[df['diet'] == 'B']['weight_loss'],\n",
    "                                  df[df['diet'] == 'C']['weight_loss'])\n",
    "\n",
    "# print results\n",
    "print('F-statistic:', f_stat)\n",
    "print('p-value:', p_value)\n"
   ]
  },
  {
   "cell_type": "code",
   "execution_count": 17,
   "id": "30624d21-abcf-4f50-a16b-198de68ac322",
   "metadata": {},
   "outputs": [],
   "source": [
    "# Ans 10:\n",
    "import pandas as pd\n",
    "import numpy as np\n",
    "\n",
    "# Create dataframe with random data\n",
    "np.random.seed(1)\n",
    "data = {'Program': np.random.choice(['A', 'B', 'C'], size=30),\n",
    "        'Experience': np.random.choice(['Novice', 'Experienced'], size=30),\n",
    "        'Time': np.random.normal(loc=10, scale=2, size=30)}\n",
    "df = pd.DataFrame(data)\n",
    "\n",
    "# Save dataframe to CSV file\n",
    "df.to_csv('data.csv', index=False)\n",
    "\n"
   ]
  },
  {
   "cell_type": "code",
   "execution_count": 18,
   "id": "f8fa06ca-02d3-4857-a7e1-db7354642f54",
   "metadata": {},
   "outputs": [
    {
     "name": "stdout",
     "output_type": "stream",
     "text": [
      "                              sum_sq    df         F    PR(>F)\n",
      "C(Program)                 10.410107   2.0  0.977472  0.390745\n",
      "C(Experience)               2.747881   1.0  0.516033  0.479475\n",
      "C(Program):C(Experience)    6.377912   2.0  0.598863  0.557441\n",
      "Residual                  127.800324  24.0       NaN       NaN\n"
     ]
    }
   ],
   "source": [
    "import statsmodels.api as sm\n",
    "from statsmodels.formula.api import ols\n",
    "\n",
    "# Load data from CSV file\n",
    "df = pd.read_csv('data.csv')\n",
    "\n",
    "# Fit two-way ANOVA model\n",
    "model = ols('Time ~ C(Program) + C(Experience) + C(Program):C(Experience)', data=df).fit()\n",
    "anova_table = sm.stats.anova_lm(model, typ=2)\n",
    "\n",
    "# Print ANOVA table with F-statistics and p-values\n",
    "print(anova_table)\n"
   ]
  },
  {
   "cell_type": "code",
   "execution_count": 19,
   "id": "00bb9f4a-93f7-451b-a7cf-199e4c7f75d8",
   "metadata": {},
   "outputs": [
    {
     "name": "stdout",
     "output_type": "stream",
     "text": [
      "Two-sample t-test results:\n",
      "t-statistic: -3.7847176872693105\n",
      "p-value: 0.0005318706661400818\n",
      "\n",
      "Post-hoc test (Tukey's HSD) results:\n",
      "Multiple Comparison of Means - Tukey HSD, FWER=0.05\n",
      "===================================================\n",
      "group1 group2 meandiff p-adj  lower   upper  reject\n",
      "---------------------------------------------------\n",
      "     0      1      7.6 0.0005 3.5349 11.6651   True\n",
      "---------------------------------------------------\n"
     ]
    }
   ],
   "source": [
    "# Ans 11:\n",
    "import pandas as pd\n",
    "import numpy as np\n",
    "from scipy.stats import ttest_ind\n",
    "from statsmodels.stats.multicomp import pairwise_tukeyhsd\n",
    "\n",
    "# create sample data\n",
    "control = pd.Series([80, 75, 85, 90, 65, 72, 68, 88, 92, 78, \n",
    "                     70, 84, 76, 83, 77, 71, 81, 86, 79, 73])\n",
    "experimental = pd.Series([95, 88, 92, 85, 84, 89, 78, 87, 94, 91,\n",
    "                          90, 86, 83, 82, 79, 81, 80, 84, 88, 89])\n",
    "\n",
    "# conduct two-sample t-test\n",
    "t_stat, p_val = ttest_ind(control, experimental)\n",
    "print(\"Two-sample t-test results:\")\n",
    "print(\"t-statistic:\", t_stat)\n",
    "print(\"p-value:\", p_val)\n",
    "\n",
    "# conduct post-hoc test (Tukey's HSD)\n",
    "tukey_results = pairwise_tukeyhsd(np.concatenate((control, experimental)), \n",
    "                                  np.concatenate(([0]*len(control), [1]*len(experimental))))\n",
    "print(\"\\nPost-hoc test (Tukey's HSD) results:\")\n",
    "print(tukey_results)\n"
   ]
  },
  {
   "cell_type": "code",
   "execution_count": 21,
   "id": "8cb880a3-424b-4aa0-8ccf-d6bb8b530cb8",
   "metadata": {},
   "outputs": [],
   "source": [
    "# Ans 12:\n",
    "import pandas as pd\n",
    "\n",
    "# create the dataframe\n",
    "data = {'Store': ['A']*30 + ['B']*30 + ['C']*30,\n",
    "        'Day': list(range(1, 31))*3,\n",
    "        'Sales': [20, 25, 18, 22, 27, 21, 24, 28, 25, 19, 23, 26, 18, 20, 24, 29, 22, 27, 21, 25, 23, 19, 28, 26, 20, 22, 25, 21, 23, 27]*3}\n",
    "df = pd.DataFrame(data)\n",
    "\n",
    "# save the dataframe to a CSV file\n",
    "df.to_csv('sales_data.csv', index=False)\n",
    " "
   ]
  },
  {
   "cell_type": "code",
   "execution_count": 26,
   "id": "2a54f76e-2a77-41b4-9176-e4b0f55fe6c6",
   "metadata": {},
   "outputs": [
    {
     "name": "stdout",
     "output_type": "stream",
     "text": [
      "                 sum_sq    df             F    PR(>F)\n",
      "Store      7.250191e-28   2.0  3.536011e-29  1.000000\n",
      "Day        1.443737e+01   1.0  1.408258e+00  0.238691\n",
      "Store:Day  2.531024e-27   2.0  1.234413e-28  1.000000\n",
      "Residual   8.611626e+02  84.0           NaN       NaN\n",
      "Multiple Comparison of Means - Tukey HSD, FWER=0.05\n",
      "==================================================\n",
      "group1 group2 meandiff p-adj  lower  upper  reject\n",
      "--------------------------------------------------\n",
      "     A      B      0.0   1.0 -1.9532 1.9532  False\n",
      "     A      C      0.0   1.0 -1.9532 1.9532  False\n",
      "     B      C      0.0   1.0 -1.9532 1.9532  False\n",
      "--------------------------------------------------\n"
     ]
    }
   ],
   "source": [
    "import pandas as pd\n",
    "import statsmodels.api as sm\n",
    "from statsmodels.formula.api import ols\n",
    "from statsmodels.stats.multicomp import pairwise_tukeyhsd\n",
    "\n",
    "# load the data from the CSV file\n",
    "df = pd.read_csv('sales_data.csv')\n",
    "\n",
    "# perform repeated measures ANOVA\n",
    "rm = ols('Sales ~ Store + Day + Store:Day', data=df).fit()\n",
    "table = sm.stats.anova_lm(rm, typ=2)\n",
    "\n",
    "# print the ANOVA table\n",
    "print(table)\n",
    "\n",
    "# perform post-hoc tests using Tukey's HSD method\n",
    "posthoc = pairwise_tukeyhsd(df['Sales'], df['Store'])\n",
    "print(posthoc)\n"
   ]
  },
  {
   "cell_type": "code",
   "execution_count": null,
   "id": "c2819e68-d3ba-4516-886f-e33226226ed7",
   "metadata": {},
   "outputs": [],
   "source": []
  }
 ],
 "metadata": {
  "kernelspec": {
   "display_name": "Python 3 (ipykernel)",
   "language": "python",
   "name": "python3"
  },
  "language_info": {
   "codemirror_mode": {
    "name": "ipython",
    "version": 3
   },
   "file_extension": ".py",
   "mimetype": "text/x-python",
   "name": "python",
   "nbconvert_exporter": "python",
   "pygments_lexer": "ipython3",
   "version": "3.10.8"
  }
 },
 "nbformat": 4,
 "nbformat_minor": 5
}
