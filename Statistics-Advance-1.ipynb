{
 "cells": [
  {
   "cell_type": "code",
   "execution_count": null,
   "id": "b083a7c5-6ea2-4d70-b3a3-f3b6432bca8b",
   "metadata": {},
   "outputs": [],
   "source": [
    "Q1. What is the Probability density function?\n",
    "Q2. What are the types of Probability distribution?\n",
    "Q3. Write a Python function to calculate the probability density function of a normal distribution with\n",
    "given mean and standard deviation at a given point.\n",
    "Q4. What are the properties of Binomial distribution? Give two examples of events where binomial\n",
    "distribution can be applied.\n",
    "Q5. Generate a random sample of size 1000 from a binomial distribution with probability of success 0.4\n",
    "and plot a histogram of the results using matplotlib.\n",
    "Q6. Write a Python function to calculate the cumulative distribution function of a Poisson distribution\n",
    "with given mean at a given point.\n",
    "Q7. How Binomial distribution different from Poisson distribution?\n",
    "Q8. Generate a random sample of size 1000 from a Poisson distribution with mean 5 and calculate the\n",
    "sample mean and variance.\n",
    "Q9. How mean and variance are related in Binomial distribution and Poisson distribution?\n",
    "Q10. In normal distribution with respect to mean position, where does the least frequent data appear?"
   ]
  },
  {
   "cell_type": "code",
   "execution_count": 1,
   "id": "6bc20ad5-8dc5-446e-a26a-0c06586ba7ee",
   "metadata": {},
   "outputs": [],
   "source": [
    "# Ans 1:\n",
    "'''\n",
    ">> A function that describes the probability of a continuous random variable taking a certain value or range of values.\n",
    ">> The integral of the PDF over a range of values gives the probability of the variable taking a value within that range.\n",
    "'''"
   ]
  },
  {
   "cell_type": "code",
   "execution_count": 2,
   "id": "cee243c4-2f49-4087-9471-13e9952dd604",
   "metadata": {},
   "outputs": [],
   "source": [
    "# Ans 2:\n",
    "'''\n",
    "Types of Probability distribution:\n",
    "\n",
    "1.Normal distribution\n",
    "2.Binomial distribution\n",
    "3.Poisson distribution\n",
    "4.Exponential distribution\n",
    "5.Uniform distribution\n",
    "6.Log Normal distribution\n",
    "7.Gamma distribution\n",
    "8.Beta distribution\n",
    "9.Chi-square distribution\n",
    "10.Student's t-distribution\n",
    "'''"
   ]
  },
  {
   "cell_type": "code",
   "execution_count": 14,
   "id": "55949268-5375-4d1d-a542-ed26b7f16752",
   "metadata": {},
   "outputs": [
    {
     "name": "stdout",
     "output_type": "stream",
     "text": [
      "0.05399096651318806\n"
     ]
    }
   ],
   "source": [
    "# Ans 3:\n",
    "import math\n",
    "\n",
    "def normal_pdf(x, mean, std_dev):\n",
    "    exponent = -((x - mean) ** 2) / (2 * std_dev ** 2)\n",
    "    coefficient = 1 / (std_dev * math.sqrt(2 * math.pi))\n",
    "    return coefficient * math.exp(exponent)\n",
    "\n",
    "result = normal_pdf(2, 0, 1)\n",
    "print(result)"
   ]
  },
  {
   "cell_type": "code",
   "execution_count": 4,
   "id": "1706bd02-ff5e-42ef-a901-120656018e57",
   "metadata": {},
   "outputs": [],
   "source": [
    "# Ans 4:\n",
    "'''\n",
    "Discrete probability distribution that describes the number of successes in a fixed number of independent trials.\n",
    "\n",
    "Two parameters: number of trials (n) and probability of success (p).\n",
    "\n",
    "Properties:\n",
    "    > Discrete and bounded (0 to n).\n",
    "    > Symmetric when p = 0.5.\n",
    "    > Mean = n * p, Variance = n * p * (1 - p).\n",
    "\n",
    "Examples:\n",
    "i)  Tossing a coin n times and counting the number of heads.\n",
    "ii) Testing a batch of n items and counting the number of defective items.\n",
    "'''"
   ]
  },
  {
   "cell_type": "code",
   "execution_count": 11,
   "id": "70b55f89-d93d-4f52-a7f3-df98a663d5b0",
   "metadata": {},
   "outputs": [
    {
     "data": {
      "image/png": "[encoded data removed]",
      "text/plain": [
       "<Figure size 640x480 with 1 Axes>"
      ]
     },
     "metadata": {},
     "output_type": "display_data"
    }
   ],
   "source": [
    "# Ans 5: Python code to generate and plot a binomial distribution:\n",
    "import numpy as np\n",
    "import matplotlib.pyplot as plt\n",
    "\n",
    "n = 1000\n",
    "p = 0.4\n",
    "sample = np.random.binomial(n, p, 1000)\n",
    "plt.hist(sample, bins=20, density=True)\n",
    "plt.show()"
   ]
  },
  {
   "cell_type": "code",
   "execution_count": 13,
   "id": "ec537e5b-ecb5-46cb-b484-b02b98b8dc35",
   "metadata": {},
   "outputs": [
    {
     "name": "stdout",
     "output_type": "stream",
     "text": [
      "0.8571234604985472\n"
     ]
    }
   ],
   "source": [
    "# Ans 6: Python function to calculate CDF of a Poisson distribution:\n",
    "import math\n",
    "\n",
    "def poisson_cdf(x, mean):\n",
    "    cdf = 0\n",
    "    for i in range(x+1):\n",
    "        cdf += math.exp(-mean) * mean**i / math.factorial(i)\n",
    "    return cdf\n",
    "\n",
    "result = poisson_cdf(3, 2)\n",
    "print(result)"
   ]
  },
  {
   "cell_type": "code",
   "execution_count": 7,
   "id": "3546b346-d989-4f2f-aec6-86e93b15f8ae",
   "metadata": {},
   "outputs": [],
   "source": [
    "# Ans 7:\n",
    "'''\n",
    "Difference between Binomial and Poisson distributions:\n",
    "\n",
    "1. Binomial distribution: discrete, describes number of successes in fixed number of trials.\n",
    " while  Poisson distribution: discrete, describes number of events occurring in fixed interval of time/space.\n",
    "\n",
    "2. Binomial distribution has two parameters (n and p), while Poisson distribution has one parameter (mean).\n",
    "\n",
    "3. Binomial distribution is bounded (0 to n), while Poisson distribution is unbounded.\n",
    "\n",
    "4. Poisson distribution is often used as an approximation for Binomial distribution when n is large and p is small.\n",
    "\n",
    "'''"
   ]
  },
  {
   "cell_type": "code",
   "execution_count": 12,
   "id": "0b93a701-9459-4d4c-9c90-52946f43d2ff",
   "metadata": {},
   "outputs": [
    {
     "name": "stdout",
     "output_type": "stream",
     "text": [
      "Sample mean: 4.945\n",
      "Sample variance: 4.651975\n"
     ]
    }
   ],
   "source": [
    "# Ans 8:\n",
    "import numpy as np\n",
    "\n",
    "sample = np.random.poisson(5, 1000)\n",
    "sample_mean = np.mean(sample)\n",
    "sample_var = np.var(sample)\n",
    "print(\"Sample mean:\", sample_mean)\n",
    "print(\"Sample variance:\", sample_var)"
   ]
  },
  {
   "cell_type": "code",
   "execution_count": 9,
   "id": "f5f79c18-4f02-4806-995b-917e4c0a0265",
   "metadata": {},
   "outputs": [],
   "source": [
    "# Ans 9:\n",
    "'''\n",
    "Mean and variance relationship in Binomial and Poisson distributions:\n",
    "\n",
    "> In a Binomial distribution, Mean = n * p \n",
    "                          and Variance = n * p * (1 - p).\n",
    "\n",
    "> In a Poisson distribution, Mean = Variance = λ.\n",
    "\n",
    "> When n is large and p is small, the Binomial distribution approaches the Poisson distribution, where λ = n * p.\n",
    "'''"
   ]
  },
  {
   "cell_type": "code",
   "execution_count": null,
   "id": "f41ca816-d0b1-47d8-8775-12d3136e1585",
   "metadata": {},
   "outputs": [],
   "source": [
    "# Ans 10:\n",
    "'''\n",
    "> The least frequent data in a normal distribution appears at the extremes, far away from the mean position. \n",
    "\n",
    "> The tails of the distribution are located at a distance of more than 2 or 3 standard deviations from the mean.\n",
    "\n",
    "> The probability density function of a normal distribution has a bell-shaped curve, with the highest point at the mean and the tails tapering off to zero as they extend further from the mean.\n",
    "\n",
    "> Most of the data is concentrated near the mean in a normal distribution, so the probability of observing data in the tails of the distribution is relatively low.\n",
    "'''"
   ]
  }
 ],
 "metadata": {
  "kernelspec": {
   "display_name": "Python 3 (ipykernel)",
   "language": "python",
   "name": "python3"
  },
  "language_info": {
   "codemirror_mode": {
    "name": "ipython",
    "version": 3
   },
   "file_extension": ".py",
   "mimetype": "text/x-python",
   "name": "python",
   "nbconvert_exporter": "python",
   "pygments_lexer": "ipython3",
   "version": "3.10.8"
  }
 },
 "nbformat": 4,
 "nbformat_minor": 5
}
