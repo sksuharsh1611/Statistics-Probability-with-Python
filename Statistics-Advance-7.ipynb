{
 "cells": [
  {
   "cell_type": "code",
   "execution_count": null,
   "id": "6522353d-671f-4d16-b028-12f6dab11a58",
   "metadata": {},
   "outputs": [],
   "source": [
    "Q1. Write a Python function that takes in two arrays of data and calculates the F-value for a variance ratio\n",
    "test. The function should return the F-value and the corresponding p-value for the test.\n",
    "\n",
    "Q2. Given a significance level of 0.05 and the degrees of freedom for the numerator and denominator of an\n",
    "F-distribution, write a Python function that returns the critical F-value for a two-tailed test.\n",
    "\n",
    "Q3. Write a Python program that generates random samples from two normal distributions with known\n",
    "variances and uses an F-test to determine if the variances are equal. The program should output the F-\n",
    "value, degrees of freedom, and p-value for the test.\n",
    "\n",
    "Q4.The variances of two populations are known to be 10 and 15. A sample of 12 observations is taken from\n",
    "each population. Conduct an F-test at the 5% significance level to determine if the variances are\n",
    "significantly different.\n",
    "\n",
    "Q5. A manufacturer claims that the variance of the diameter of a certain product is 0.005. A sample of 25\n",
    "products is taken, and the sample variance is found to be 0.006. Conduct an F-test at the 1% significance\n",
    "level to determine if the claim is justified.\n",
    "\n",
    "Q6. Write a Python function that takes in the degrees of freedom for the numerator and denominator of an\n",
    "F-distribution and calculates the mean and variance of the distribution. The function should return the\n",
    "mean and variance as a tuple.\n",
    "\n",
    "Q7. A random sample of 10 measurements is taken from a normal population with unknown variance. The\n",
    "sample variance is found to be 25. Another random sample of 15 measurements is taken from another\n",
    "normal population with unknown variance, and the sample variance is found to be 20. Conduct an F-test\n",
    "at the 10% significance level to determine if the variances are significantly different.\n",
    "\n",
    "Q8. The following data represent the waiting times in minutes at two different restaurants on a Saturday\n",
    "night: Restaurant A: 24, 25, 28, 23, 22, 20, 27; Restaurant B: 31, 33, 35, 30, 32, 36. Conduct an F-test at the 5%\n",
    "significance level to determine if the variances are significantly different.\n",
    "\n",
    "Q9. The following data represent the test scores of two groups of students: Group A: 80, 85, 90, 92, 87, 83;\n",
    "Group B: 75, 78, 82, 79, 81, 84. Conduct an F-test at the 1% significance level to determine if the variances\n",
    "are significantly different."
   ]
  },
  {
   "cell_type": "code",
   "execution_count": 10,
   "id": "242e5a82-b3b5-4e15-910b-75d08e5faed1",
   "metadata": {},
   "outputs": [
    {
     "name": "stdout",
     "output_type": "stream",
     "text": [
      "F-value: 4.0\n",
      "p-value: 0.10400000000000002\n"
     ]
    }
   ],
   "source": [
    "# Sol 1:\n",
    "import numpy as np\n",
    "from scipy.stats import f\n",
    "\n",
    "def variance_ratio_test(x, y):\n",
    "    n1 = len(x)\n",
    "    n2 = len(y)\n",
    "    var1 = np.var(x, ddof=1)\n",
    "    var2 = np.var(y, ddof=1)\n",
    "    if var1 > var2:\n",
    "        f_value = var1 / var2\n",
    "        df1 = n1 - 1\n",
    "        df2 = n2 - 1\n",
    "    else:\n",
    "        f_value = var2 / var1\n",
    "        df1 = n2 - 1\n",
    "        df2 = n1 - 1\n",
    "    p_value = f.sf(f_value, df1, df2)\n",
    "    return f_value, p_value\n",
    "\n",
    "x = [1, 2, 3, 4, 5]\n",
    "y = [2, 4, 6, 8, 10]\n",
    "f_value, p_value = variance_ratio_test(x, y)\n",
    "print(\"F-value:\", f_value)\n",
    "print(\"p-value:\", p_value)"
   ]
  },
  {
   "cell_type": "code",
   "execution_count": 11,
   "id": "0db2cc79-695c-42b0-b97e-36f4826f4c42",
   "metadata": {},
   "outputs": [
    {
     "name": "stdout",
     "output_type": "stream",
     "text": [
      "Critical F-value for a two-tailed test with alpha = 0.05, dfn = 3, and dfd = 16:  4.07682306196248\n"
     ]
    }
   ],
   "source": [
    "# Sol 2:\n",
    "from scipy.stats import f\n",
    "\n",
    "def critical_f(alpha, dfn, dfd):\n",
    "    \"\"\"\n",
    "    Returns the critical F-value for a two-tailed test\n",
    "    given a significance level and degrees of freedom for\n",
    "    the numerator and denominator.\n",
    "    \"\"\"\n",
    "    return f.ppf(1 - alpha/2, dfn, dfd)\n",
    "\n",
    "alpha = 0.05\n",
    "dfn = 3\n",
    "dfd = 16\n",
    "\n",
    "critical_f_value = critical_f(alpha, dfn, dfd)\n",
    "\n",
    "print(\"Critical F-value for a two-tailed test with alpha = 0.05, dfn = 3, and dfd = 16: \", critical_f_value)\n"
   ]
  },
  {
   "cell_type": "code",
   "execution_count": 12,
   "id": "c9a63276-8d2a-488c-ac6b-850cce126fd4",
   "metadata": {},
   "outputs": [
    {
     "name": "stdout",
     "output_type": "stream",
     "text": [
      "Sample 1 Variance:  5.637780974408914\n",
      "Sample 2 Variance:  13.538017298438005\n",
      "F-value:  0.4164406685356645\n",
      "Degrees of Freedom:  29  and  24\n",
      "p-value:  0.9871789990430246\n"
     ]
    }
   ],
   "source": [
    "# Sol 3:\n",
    "import numpy as np\n",
    "from scipy.stats import f\n",
    "\n",
    "# Set seed for reproducibility\n",
    "np.random.seed(123)\n",
    "\n",
    "# Generate two random samples with known variances\n",
    "n1 = 30\n",
    "n2 = 25\n",
    "var1 = 4\n",
    "var2 = 9\n",
    "\n",
    "sample1 = np.random.normal(loc=0, scale=np.sqrt(var1), size=n1)\n",
    "sample2 = np.random.normal(loc=0, scale=np.sqrt(var2), size=n2)\n",
    "\n",
    "# Compute the F-value, degrees of freedom, and p-value for the test\n",
    "dfn = n1 - 1\n",
    "dfd = n2 - 1\n",
    "F = np.var(sample1, ddof=1) / np.var(sample2, ddof=1)\n",
    "p_value = 1 - f.cdf(F, dfn=dfn, dfd=dfd)\n",
    "\n",
    "# Print the results\n",
    "print(\"Sample 1 Variance: \", np.var(sample1, ddof=1))\n",
    "print(\"Sample 2 Variance: \", np.var(sample2, ddof=1))\n",
    "print(\"F-value: \", F)\n",
    "print(\"Degrees of Freedom: \", dfn, \" and \", dfd)\n",
    "print(\"p-value: \", p_value)\n"
   ]
  },
  {
   "cell_type": "code",
   "execution_count": 13,
   "id": "79cf5cd8-a47d-48d9-984c-9f3c931bf0bd",
   "metadata": {},
   "outputs": [
    {
     "name": "stdout",
     "output_type": "stream",
     "text": [
      "Fail to reject the null hypothesis. The variances are equal.\n",
      "F-value: 0.7811184029548583\n",
      "Degrees of freedom (numerator, denominator): 11 11\n",
      "p-value: 1.310815721253253\n"
     ]
    }
   ],
   "source": [
    "# Sol 4:\n",
    "'''\n",
    "To conduct an F-test to compare the variances of two populations, we need to follow these steps:\n",
    "\n",
    "1. Set up the null and alternative hypotheses:\n",
    "\n",
    "> Null hypothesis: the variances of the two populations are equal.\n",
    "> Alternative hypothesis: the variances of the two populations are significantly different.\n",
    "\n",
    "2. Determine the significance level (alpha) and degrees of freedom for the numerator (df1) and denominator (df2) of the F-distribution.\n",
    "\n",
    "    In this case, the significance level is 0.05, \n",
    "    df1 = 11 (n1 - 1)  \n",
    "    df2 = 11 (n2 - 1) \n",
    "    where n1 = n2 = 12.\n",
    "\n",
    "3. Calculate the F-statistic:\n",
    "    F = s1^2 / s2^2\n",
    "\n",
    "    where s1^2 and s2^2 are the sample variances.\n",
    "\n",
    "4. Calculate the p-value using the F-distribution with degrees of freedom df1 and df2.\n",
    "\n",
    "5. Compare the p-value to the significance level to determine whether to reject or fail to reject the null hypothesis.\n",
    "\n",
    "'''\n",
    "import numpy as np\n",
    "from scipy.stats import f\n",
    "\n",
    "# Set the parameters\n",
    "n1 = n2 = 12\n",
    "alpha = 0.05\n",
    "var1 = 10\n",
    "var2 = 15\n",
    "\n",
    "# Generate random samples from the populations\n",
    "np.random.seed(123)\n",
    "sample1 = np.random.normal(loc=0, scale=np.sqrt(var1), size=n1)\n",
    "sample2 = np.random.normal(loc=0, scale=np.sqrt(var2), size=n2)\n",
    "\n",
    "# Calculate the sample variances\n",
    "s1_squared = np.var(sample1, ddof=1)\n",
    "s2_squared = np.var(sample2, ddof=1)\n",
    "\n",
    "# Calculate the F-statistic\n",
    "F = s1_squared / s2_squared\n",
    "\n",
    "# Calculate the p-value\n",
    "p_value = f.sf(F, n1-1, n2-1)*2\n",
    "\n",
    "# Compare the p-value to the significance level\n",
    "if p_value < alpha:\n",
    "    print(\"Reject the null hypothesis. The variances are significantly different.\")\n",
    "else:\n",
    "    print(\"Fail to reject the null hypothesis. The variances are equal.\")\n",
    "\n",
    "# Output the F-value, degrees of freedom, and p-value\n",
    "print(\"F-value:\", F)\n",
    "print(\"Degrees of freedom (numerator, denominator):\", n1-1, n2-1)\n",
    "print(\"p-value:\", p_value)\n"
   ]
  },
  {
   "cell_type": "code",
   "execution_count": 14,
   "id": "a5d88867-7d52-4e92-8797-bdcc3c1568e4",
   "metadata": {},
   "outputs": [
    {
     "name": "stdout",
     "output_type": "stream",
     "text": [
      "F-value: 1.2\n",
      "Critical F-value: 2.659072104348157\n",
      "p-value: 0.3293654682817244\n"
     ]
    }
   ],
   "source": [
    "# Sol 5:\n",
    "import scipy.stats as stats\n",
    "\n",
    "# Define the sample variance and hypothesized variance\n",
    "s2 = 0.006\n",
    "sigma2 = 0.005\n",
    "\n",
    "# Compute the test statistic F\n",
    "F = s2 / sigma2\n",
    "\n",
    "# Compute the critical F-value for a one-tailed test\n",
    "F_crit = stats.f.ppf(0.99, 24, 24)\n",
    "\n",
    "# Compute the p-value\n",
    "p_value = 1 - stats.f.cdf(F, 24, 24)\n",
    "\n",
    "# Print the results\n",
    "print(\"F-value:\", F)\n",
    "print(\"Critical F-value:\", F_crit)\n",
    "print(\"p-value:\", p_value)\n"
   ]
  },
  {
   "cell_type": "code",
   "execution_count": 15,
   "id": "6b89453f-bcee-4419-a641-13bd42193fdc",
   "metadata": {},
   "outputs": [
    {
     "name": "stdout",
     "output_type": "stream",
     "text": [
      "Mean: 1.2857142857142858\n",
      "Variance: 1.4326530612244899\n"
     ]
    }
   ],
   "source": [
    "# Sol 6:\n",
    "from math import gamma\n",
    "\n",
    "def f_distribution_mean_var(df1, df2):\n",
    "    \"\"\"\n",
    "    This function takes in the degrees of freedom for the numerator and denominator of an F-distribution\n",
    "    and calculates the mean and variance of the distribution.\n",
    "    \"\"\"\n",
    "    mean = df2 / (df2 - 2)\n",
    "    var = (2 * df2**2 * (df1 + df2 - 2)) / (df1 * (df2 - 2)**2 * (df2 - 4))\n",
    "    return mean, var\n",
    "\n",
    "mean, var = f_distribution_mean_var(6, 9)\n",
    "print(\"Mean:\", mean)\n",
    "print(\"Variance:\", var)"
   ]
  },
  {
   "cell_type": "code",
   "execution_count": 16,
   "id": "236b2e07-f6f7-4bc3-a0bb-449c11782a5b",
   "metadata": {},
   "outputs": [
    {
     "name": "stdout",
     "output_type": "stream",
     "text": [
      "Fail to reject null hypothesis, variances are not significantly different\n"
     ]
    }
   ],
   "source": [
    "# Sol 7:\n",
    "'''\n",
    "Null hypothesis: The variances are equal.\n",
    "\n",
    "Alternative hypothesis: The variances are not equal.\n",
    "'''\n",
    "import scipy.stats as stats\n",
    "\n",
    "# Sample size\n",
    "n1 = 10\n",
    "n2 = 15\n",
    "\n",
    "# Sample variances\n",
    "s1 = 25\n",
    "s2 = 20\n",
    "\n",
    "# Degrees of freedom\n",
    "df1 = n1 - 1\n",
    "df2 = n2 - 1\n",
    "\n",
    "# Calculate the F-statistic\n",
    "f = s1 / s2\n",
    "\n",
    "# Calculate the p-value\n",
    "p = stats.f.sf(f, df1, df2)\n",
    "\n",
    "# Significance level\n",
    "alpha = 0.1\n",
    "\n",
    "# Determine if the variances are significantly different\n",
    "if p < alpha:\n",
    "    print(\"Reject null hypothesis, variances are significantly different\")\n",
    "else:\n",
    "    print(\"Fail to reject null hypothesis, variances are not significantly different\")\n"
   ]
  },
  {
   "cell_type": "code",
   "execution_count": 17,
   "id": "55adf9fc-bc5c-4abe-bf11-6b483dbe516a",
   "metadata": {},
   "outputs": [
    {
     "name": "stdout",
     "output_type": "stream",
     "text": [
      "F-value:  1.4551907719609583\n",
      "p-value:  0.6512592126031258\n"
     ]
    }
   ],
   "source": [
    "# Sol 8:\n",
    "\n",
    "'''\n",
    "We can conduct an F-test to determine if the variances of the two samples are significantly different.\n",
    "The null hypothesis is that the variances are equal,\n",
    "the alternative hypothesis is that they are not equal.\n",
    "'''\n",
    "import numpy as np\n",
    "from scipy.stats import f\n",
    "\n",
    "# Sample data\n",
    "A = np.array([24, 25, 28, 23, 22, 20, 27])\n",
    "B = np.array([31, 33, 35, 30, 32, 36])\n",
    "\n",
    "# Calculate variances\n",
    "var_A = np.var(A, ddof=1)\n",
    "var_B = np.var(B, ddof=1)\n",
    "\n",
    "# Calculate F-value and p-value\n",
    "F = var_A/var_B\n",
    "dfn = len(A)-1\n",
    "dfd = len(B)-1\n",
    "p_value = f.cdf(F, dfn, dfd)\n",
    "\n",
    "# Print results\n",
    "print(\"F-value: \", F)\n",
    "print(\"p-value: \", p_value)\n"
   ]
  },
  {
   "cell_type": "code",
   "execution_count": 18,
   "id": "a7f0868f-ddbe-4772-a7c0-4eca146fd63d",
   "metadata": {},
   "outputs": [
    {
     "name": "stdout",
     "output_type": "stream",
     "text": [
      "F-value: 1.6689556444369265\n",
      "p-value: 0.5877334897228282\n"
     ]
    }
   ],
   "source": [
    "# Sol 9:\n",
    "import scipy.stats as stats\n",
    "\n",
    "# sample data\n",
    "group_a = [80, 85, 90, 92, 87, 83]\n",
    "group_b = [75, 78, 82, 79, 81, 84]\n",
    "\n",
    "# calculate variances\n",
    "var_a = stats.variation(group_a, ddof=1) ** 2\n",
    "var_b = stats.variation(group_b, ddof=1) ** 2\n",
    "\n",
    "# calculate F-value and p-value\n",
    "F = var_a / var_b\n",
    "p = stats.f.sf(F, len(group_a)-1, len(group_b)-1) * 2\n",
    "\n",
    "# print results\n",
    "print(\"F-value:\", F)\n",
    "print(\"p-value:\", p)\n"
   ]
  }
 ],
 "metadata": {
  "kernelspec": {
   "display_name": "Python 3 (ipykernel)",
   "language": "python",
   "name": "python3"
  },
  "language_info": {
   "codemirror_mode": {
    "name": "ipython",
    "version": 3
   },
   "file_extension": ".py",
   "mimetype": "text/x-python",
   "name": "python",
   "nbconvert_exporter": "python",
   "pygments_lexer": "ipython3",
   "version": "3.10.8"
  }
 },
 "nbformat": 4,
 "nbformat_minor": 5
}
